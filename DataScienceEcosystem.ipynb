{
 "cells": [
  {
   "cell_type": "code",
   "execution_count": 1,
   "id": "b8aee18f-783a-42d7-bec4-8b92d8ca75b1",
   "metadata": {},
   "outputs": [
    {
     "name": "stdout",
     "output_type": "stream",
     "text": [
      "hello world\n"
     ]
    }
   ],
   "source": [
    "print(\"hello world\")"
   ]
  },
  {
   "cell_type": "markdown",
   "id": "bcd8f4dc-c832-407e-a6bf-bf7b0cbc120f",
   "metadata": {},
   "source": [
    "# Data Science Tools and Ecosystem"
   ]
  },
  {
   "cell_type": "markdown",
   "id": "97d3da80-717d-4097-9fd8-47e3a326b25b",
   "metadata": {},
   "source": [
    "In this notebook, Data Science Tools and Ecosystem are summarized."
   ]
  },
  {
   "cell_type": "markdown",
   "id": "e6b10272-481a-4740-a5c0-c5da77d8f0b2",
   "metadata": {},
   "source": [
    "Some of the popular languages that Data Scientists use are:\n",
    "- R;\n",
    "- Python;\n",
    "- Java;\n",
    "- C++;\n",
    "- Julia;\n",
    "- etc."
   ]
  },
  {
   "cell_type": "markdown",
   "id": "93cc5ea9-f519-4a57-baa2-59264a02c33d",
   "metadata": {},
   "source": [
    "Some of the commonly used libraries used by Data Scientists include:\n",
    "- ggplot;\n",
    "- plotly;\n",
    "- lattice."
   ]
  },
  {
   "cell_type": "markdown",
   "id": "6122b9a5-2ea9-46e0-894a-9ef5c5e5a91d",
   "metadata": {},
   "source": [
    "|Data Science Tools|\n",
    "|------------------|\n",
    "| GitHub           |\n",
    "| Anaconda         |\n",
    "| RStudio          |"
   ]
  },
  {
   "cell_type": "markdown",
   "id": "9696db8b-46d1-4d84-9c23-aa16eb684ef8",
   "metadata": {},
   "source": [
    "### Below are a few examples of evaluating arithmetic expressions in Python"
   ]
  },
  {
   "cell_type": "code",
   "execution_count": 4,
   "id": "c65aac75-f77d-49fd-b760-015239e0947e",
   "metadata": {},
   "outputs": [
    {
     "data": {
      "text/plain": [
       "17"
      ]
     },
     "execution_count": 4,
     "metadata": {},
     "output_type": "execute_result"
    }
   ],
   "source": [
    "# This is a simple arithmetic expression to mutiply then add integers\n",
    "(3*4)+5"
   ]
  },
  {
   "cell_type": "code",
   "execution_count": 7,
   "id": "3ff31ec2-2611-454d-92e9-df720df13939",
   "metadata": {},
   "outputs": [
    {
     "data": {
      "text/plain": [
       "3.3333333333333335"
      ]
     },
     "execution_count": 7,
     "metadata": {},
     "output_type": "execute_result"
    }
   ],
   "source": [
    "#This will convert 200 minutes to hours by diving by 60\n",
    "(200/60)"
   ]
  },
  {
   "cell_type": "markdown",
   "id": "909526bc-094f-48c4-94b7-95f3e15ca011",
   "metadata": {},
   "source": [
    "**Objectives from this course**\n",
    "- Knowledge about tools for data science;\n",
    "- To know how to use those tools;\n",
    "- Knowledge about the commons languages in data science."
   ]
  },
  {
   "cell_type": "markdown",
   "id": "43d678cb-9341-412c-b1cd-c66d8fb04109",
   "metadata": {},
   "source": [
    "## Author\n",
    "Camila dos Santos Gasparini"
   ]
  },
  {
   "cell_type": "code",
   "execution_count": null,
   "id": "e68d92fd-90bf-469b-ba97-bd354632bae2",
   "metadata": {},
   "outputs": [],
   "source": []
  }
 ],
 "metadata": {
  "kernelspec": {
   "display_name": "Python 3 (ipykernel)",
   "language": "python",
   "name": "python3"
  },
  "language_info": {
   "codemirror_mode": {
    "name": "ipython",
    "version": 3
   },
   "file_extension": ".py",
   "mimetype": "text/x-python",
   "name": "python",
   "nbconvert_exporter": "python",
   "pygments_lexer": "ipython3",
   "version": "3.12.4"
  }
 },
 "nbformat": 4,
 "nbformat_minor": 5
}
